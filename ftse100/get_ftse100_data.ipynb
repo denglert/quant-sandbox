{
 "cells": [
  {
   "cell_type": "code",
   "execution_count": 3,
   "metadata": {},
   "outputs": [
    {
     "name": "stdout",
     "output_type": "stream",
     "text": [
      "The autoreload extension is already loaded. To reload it, use:\n",
      "  %reload_ext autoreload\n"
     ]
    }
   ],
   "source": [
    "import os\n",
    "setup_script = os.path.join(os.environ['ENV_JUPYTER_SETUPS_DIR'], 'setup_sci_env_basic.py')\n",
    "%run $setup_script"
   ]
  },
  {
   "cell_type": "code",
   "execution_count": 4,
   "metadata": {
    "collapsed": true
   },
   "outputs": [],
   "source": [
    "load_mpl_style('single_plot.mplstyle')\n",
    "ignore_warnings()"
   ]
  },
  {
   "cell_type": "code",
   "execution_count": 5,
   "metadata": {
    "collapsed": true
   },
   "outputs": [],
   "source": [
    "from pandas_datareader import data as web\n",
    "import datetime as dt\n",
    "import time\n",
    "import bs4 as bs\n",
    "import csv\n",
    "import requests\n",
    "import os\n",
    "import quandl"
   ]
  },
  {
   "cell_type": "code",
   "execution_count": 6,
   "metadata": {
    "collapsed": true
   },
   "outputs": [],
   "source": [
    "def get_ftse100_tickers(tickers_out=\"ftse100_tickers.dat\"):\n",
    "    spx_wiki_url = \"https://en.wikipedia.org/wiki/FTSE_100_Index\"\n",
    "    resp = requests.get(spx_wiki_url)\n",
    "    soup = bs.BeautifulSoup(resp.text)\n",
    "    table = soup.find('table', {'class':'wikitable sortable'})\n",
    "    df = pd.DataFrame(columns=['company_name', 'ticker', 'sector'])\n",
    "    tickers = []\n",
    "    for row in table.findAll('tr')[1:]:\n",
    "        company_name = row.findAll('td')[0].text\n",
    "        ticker = row.findAll('td')[1].text\n",
    "        sector = row.findAll('td')[2].text\n",
    "        # - The FTSE100 tickers have a .L suffix in Yahoo finance\n",
    "        ticker = ticker + '.L'\n",
    "        security = {'company_name': company_name, 'ticker': ticker, 'sector' : sector}\n",
    "        df = df.append(security, ignore_index=True)\n",
    "    \n",
    "    df.to_csv(tickers_out, sep=',', index=False)\n",
    "                \n",
    "    return df"
   ]
  },
  {
   "cell_type": "code",
   "execution_count": 12,
   "metadata": {
    "collapsed": true
   },
   "outputs": [],
   "source": [
    "ftse100 = get_ftse100_tickers()"
   ]
  },
  {
   "cell_type": "markdown",
   "metadata": {},
   "source": [
    "**Sectors**"
   ]
  },
  {
   "cell_type": "code",
   "execution_count": 14,
   "metadata": {},
   "outputs": [
    {
     "name": "stdout",
     "output_type": "stream",
     "text": [
      "['Financial Services' 'Nonlife Insurance' 'Mining' 'Support Services'\n",
      " 'Food Producers' 'Pharmaceuticals & Biotechnology' 'Life Insurance'\n",
      " 'Aerospace & Defense' 'Banks' 'Household Goods & Home Construction'\n",
      " 'Oil & Gas Producers' 'Tobacco' 'Real Estate Investment Trusts'\n",
      " 'Fixed Line Telecommunications' 'Personal Goods' 'Travel & Leisure'\n",
      " 'Gas, Water & Multiutilities' 'Beverages' 'Construction & Materials'\n",
      " 'Chemicals' 'Industrial Metals & Mining' 'Automobiles & Parts'\n",
      " 'Electronic & Electrical Equipment' 'Media' 'General Retailers'\n",
      " 'Health Care Equipment & Services' 'Software & Computer Services'\n",
      " 'Forestry & Paper' 'Food & Drug Retailers' 'Equity Investment Instruments'\n",
      " 'General Industrials' 'Electricity' 'Mobile Telecommunications'\n",
      " 'Retail hospitality']\n"
     ]
    }
   ],
   "source": [
    "print(ftse100['sector'].unique())"
   ]
  },
  {
   "cell_type": "code",
   "execution_count": 15,
   "metadata": {
    "collapsed": true
   },
   "outputs": [],
   "source": [
    "def get_ftse100_data(reload_tickers=False,\n",
    "                     tickers_list=\"ftse100_tickers.dat\",\n",
    "                     start = dt.datetime(2015,1,1),\n",
    "                     end = dt.datetime(2018,3,9),\n",
    "                     datareader_pause=1\n",
    "                    ):\n",
    "    \n",
    "    if reload_tickers:\n",
    "        tickers = get_ftse100_tickers()\n",
    "    else:\n",
    "        ftse100 = pd.read_csv(tickers_list, delimiter=',')\n",
    "\n",
    "    \n",
    "    for ticker in ftse100['ticker']:\n",
    "        ticker_data_path = \"data/{}.dat\".format(ticker)\n",
    "        if not os.path.exists(ticker_data_path):\n",
    "            \n",
    "            try:\n",
    "                df = web.DataReader(ticker, 'yahoo', start, end)\n",
    "            except:\n",
    "                pass\n",
    "            time.sleep(datareader_pause)\n",
    "            df.to_csv(ticker_data_path)\n",
    "            msg = \"{} downloaded.\".format(ticker)\n",
    "            print(msg)\n",
    "        else:\n",
    "            msg = \"{} already retrieved.\".format(ticker)\n",
    "            print(msg)"
   ]
  },
  {
   "cell_type": "code",
   "execution_count": 22,
   "metadata": {},
   "outputs": [
    {
     "name": "stdout",
     "output_type": "stream",
     "text": [
      "III.L already retrieved.\n",
      "ADM.L already retrieved.\n",
      "AAL.L already retrieved.\n",
      "ANTO.L already retrieved.\n",
      "AHT.L already retrieved.\n",
      "ABF.L already retrieved.\n",
      "AZN.L already retrieved.\n",
      "AV..L already retrieved.\n",
      "BA..L already retrieved.\n",
      "BARC.L already retrieved.\n",
      "BDEV.L already retrieved.\n",
      "BKG.L already retrieved.\n",
      "BLT.L already retrieved.\n",
      "BP..L already retrieved.\n",
      "BATS.L already retrieved.\n",
      "BLND.L already retrieved.\n",
      "BT.A.L already retrieved.\n",
      "BNZL.L already retrieved.\n",
      "BRBY.L already retrieved.\n",
      "CCL.L already retrieved.\n",
      "CNA.L already retrieved.\n",
      "CCH.L already retrieved.\n",
      "CPG.L already retrieved.\n",
      "CRH.L already retrieved.\n",
      "CRDA.L already retrieved.\n",
      "DCC.L already retrieved.\n",
      "DGE.L already retrieved.\n",
      "DLG.L already retrieved.\n",
      "EZJ.L already retrieved.\n",
      "EVR.L already retrieved.\n",
      "EXPN.L already retrieved.\n",
      "FERG.L already retrieved.\n",
      "FRES.L already retrieved.\n",
      "GFS.L already retrieved.\n",
      "GKN.L already retrieved.\n",
      "GSK.L already retrieved.\n",
      "GLEN.L already retrieved.\n",
      "HLMA.L already retrieved.\n",
      "HMSO.L already retrieved.\n",
      "HL..L already retrieved.\n",
      "HSBA.L already retrieved.\n",
      "IMB.L already retrieved.\n",
      "INF.L already retrieved.\n",
      "IHG.L already retrieved.\n",
      "IAG.L already retrieved.\n",
      "ITRK.L already retrieved.\n",
      "ITV.L already retrieved.\n",
      "JMAT.L already retrieved.\n",
      "JE..L already retrieved.\n",
      "KGF.L already retrieved.\n",
      "LAND.L already retrieved.\n",
      "LGEN.L already retrieved.\n",
      "LLOY.L already retrieved.\n",
      "LSE.L already retrieved.\n",
      "MKS.L already retrieved.\n",
      "MDC.L already retrieved.\n",
      "MCRO.L already retrieved.\n",
      "MNDI.L already retrieved.\n",
      "MRW.L already retrieved.\n",
      "NG..L already retrieved.\n",
      "NXT.L already retrieved.\n",
      "NMC.L already retrieved.\n",
      "OML.L already retrieved.\n",
      "PPB.L already retrieved.\n",
      "PSON.L already retrieved.\n",
      "PSN.L already retrieved.\n",
      "PRU.L already retrieved.\n",
      "RRS.L already retrieved.\n",
      "RB..L already retrieved.\n",
      "REL.L already retrieved.\n",
      "RTO.L already retrieved.\n",
      "RIO.L already retrieved.\n",
      "RR..L already retrieved.\n",
      "RBS.L already retrieved.\n",
      "RDSA.L already retrieved.\n",
      "RSA.L already retrieved.\n",
      "SGE.L already retrieved.\n",
      "SBRY.L already retrieved.\n",
      "SDR.L already retrieved.\n",
      "SMT.L already retrieved.\n",
      "SGRO.L already retrieved.\n",
      "SVT.L already retrieved.\n",
      "SHP.L already retrieved.\n",
      "SKY.L already retrieved.\n",
      "SN..L already retrieved.\n",
      "SMDS.L already retrieved.\n",
      "SMIN.L already retrieved.\n",
      "SKG.L already retrieved.\n",
      "SSE.L already retrieved.\n",
      "STAN.L already retrieved.\n",
      "SLA.L already retrieved.\n",
      "STJ.L already retrieved.\n",
      "TW..L already retrieved.\n",
      "TSCO.L already retrieved.\n",
      "TUI.L already retrieved.\n",
      "ULVR.L already retrieved.\n",
      "UU..L already retrieved.\n",
      "VOD.L already retrieved.\n",
      "WTB.L already retrieved.\n",
      "WPP.L already retrieved.\n"
     ]
    }
   ],
   "source": [
    "get_ftse100_data()"
   ]
  }
 ],
 "metadata": {
  "kernelspec": {
   "display_name": "Python 3",
   "language": "python",
   "name": "python3"
  },
  "language_info": {
   "codemirror_mode": {
    "name": "ipython",
    "version": 3
   },
   "file_extension": ".py",
   "mimetype": "text/x-python",
   "name": "python",
   "nbconvert_exporter": "python",
   "pygments_lexer": "ipython3",
   "version": "3.6.6"
  }
 },
 "nbformat": 4,
 "nbformat_minor": 2
}
