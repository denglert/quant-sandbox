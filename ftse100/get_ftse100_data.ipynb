{
 "cells": [
  {
   "cell_type": "code",
   "execution_count": 2,
   "metadata": {},
   "outputs": [
    {
     "name": "stdout",
     "output_type": "stream",
     "text": [
      "The autoreload extension is already loaded. To reload it, use:\n",
      "  %reload_ext autoreload\n"
     ]
    }
   ],
   "source": [
    "import os\n",
    "setup_script = os.path.join(os.environ['ENV_JUPYTER_SETUPS_DIR'], 'setup_sci_env_basic.py')\n",
    "%run $setup_script"
   ]
  },
  {
   "cell_type": "code",
   "execution_count": 3,
   "metadata": {
    "collapsed": true
   },
   "outputs": [],
   "source": [
    "load_mpl_style('single_plot.mplstyle')\n",
    "ignore_warnings()"
   ]
  },
  {
   "cell_type": "code",
   "execution_count": 4,
   "metadata": {
    "collapsed": true
   },
   "outputs": [],
   "source": [
    "from pandas_datareader import data as web\n",
    "import datetime as dt\n",
    "import time\n",
    "import bs4 as bs\n",
    "import csv\n",
    "import requests\n",
    "import os\n",
    "import quandl"
   ]
  },
  {
   "cell_type": "code",
   "execution_count": 5,
   "metadata": {
    "collapsed": true
   },
   "outputs": [],
   "source": [
    "def get_ftse100_tickers(tickers_out=\"ftse100_tickers.dat\"):\n",
    "    spx_wiki_url = \"https://en.wikipedia.org/wiki/FTSE_100_Index\"\n",
    "    resp = requests.get(spx_wiki_url)\n",
    "    soup = bs.BeautifulSoup(resp.text)\n",
    "    table = soup.find('table', {'class':'wikitable sortable'})\n",
    "    df = pd.DataFrame(columns=['company_name', 'ticker', 'sector'])\n",
    "    tickers = []\n",
    "    for row in table.findAll('tr')[1:]:\n",
    "        company_name = row.findAll('td')[0].text\n",
    "        ticker = row.findAll('td')[1].text\n",
    "        sector = row.findAll('td')[2].text\n",
    "        security = {'company_name': company_name, 'ticker': ticker, 'sector' : sector}\n",
    "        df = df.append(security, ignore_index=True)\n",
    "    \n",
    "    df.to_csv(tickers_out, sep=',', index=False)\n",
    "                \n",
    "    return df"
   ]
  },
  {
   "cell_type": "code",
   "execution_count": 6,
   "metadata": {
    "collapsed": true
   },
   "outputs": [],
   "source": [
    "ftse100 = get_ftse100_tickers()"
   ]
  },
  {
   "cell_type": "markdown",
   "metadata": {},
   "source": [
    "**Sectors**"
   ]
  },
  {
   "cell_type": "code",
   "execution_count": 8,
   "metadata": {},
   "outputs": [
    {
     "name": "stdout",
     "output_type": "stream",
     "text": [
      "['Financial Services' 'Nonlife Insurance' 'Mining' 'Support Services'\n",
      " 'Food Producers' 'Pharmaceuticals & Biotechnology' 'Life Insurance'\n",
      " 'Aerospace & Defense' 'Banks' 'Household Goods & Home Construction'\n",
      " 'Oil & Gas Producers' 'Tobacco' 'Real Estate Investment Trusts'\n",
      " 'Fixed Line Telecommunications' 'Personal Goods' 'Travel & Leisure'\n",
      " 'Gas, Water & Multiutilities' 'Beverages' 'Construction & Materials'\n",
      " 'Chemicals' 'Industrial Metals & Mining' 'Automobiles & Parts'\n",
      " 'Electronic & Electrical Equipment' 'Media' 'General Retailers'\n",
      " 'Health Care Equipment & Services' 'Software & Computer Services'\n",
      " 'Forestry & Paper' 'Food & Drug Retailers' 'Equity Investment Instruments'\n",
      " 'General Industrials' 'Electricity' 'Mobile Telecommunications'\n",
      " 'Retail hospitality']\n"
     ]
    }
   ],
   "source": [
    "print(ftse100['sector'].unique())"
   ]
  },
  {
   "cell_type": "code",
   "execution_count": 7,
   "metadata": {},
   "outputs": [],
   "source": [
    "def get_ftse100_data(reload_tickers=False,\n",
    "                     tickers_list=\"ftse100_tickers_corrected.dat\",\n",
    "                     start = dt.datetime(2015,1,1),\n",
    "                     end = dt.datetime(2018,3,5),\n",
    "                     datareader_pause=1\n",
    "                    ):\n",
    "    \n",
    "    if reload_tickers:\n",
    "        tickers = get_ftse100_tickers()\n",
    "    else:\n",
    "        ftse100 = pd.read_csv(tickers_list, delimiter=',')\n",
    "\n",
    "    \n",
    "    for ticker in ftse100['ticker']:\n",
    "        ticker_data_path = \"data/{}.dat\".format(ticker)\n",
    "        if not os.path.exists(ticker_data_path):\n",
    "            \n",
    "            try:\n",
    "                df = web.DataReader(ticker, 'yahoo', start, end)\n",
    "            except:\n",
    "                pass\n",
    "            time.sleep(datareader_pause)\n",
    "            df.to_csv(ticker_data_path)\n",
    "            msg = \"{} downloaded.\".format(ticker)\n",
    "            print(msg)\n",
    "        else:\n",
    "            msg = \"{} already retrieved.\".format(ticker)\n",
    "            print(msg)"
   ]
  },
  {
   "cell_type": "code",
   "execution_count": 10,
   "metadata": {},
   "outputs": [
    {
     "name": "stdout",
     "output_type": "stream",
     "text": [
      "III already retrieved.\n",
      "ADM already retrieved.\n",
      "AAL already retrieved.\n",
      "ANTO already retrieved.\n",
      "AHT already retrieved.\n",
      "ABF already retrieved.\n",
      "AZN already retrieved.\n",
      "AV. already retrieved.\n",
      "BA. already retrieved.\n",
      "BARC already retrieved.\n",
      "BDEV already retrieved.\n",
      "BKG already retrieved.\n",
      "BLT already retrieved.\n",
      "BP. already retrieved.\n",
      "BATS already retrieved.\n",
      "BLND.L already retrieved.\n",
      "BT-A.L downloaded.\n",
      "BNZL.L already retrieved.\n",
      "BRBY.L already retrieved.\n",
      "CCL already retrieved.\n",
      "CNA already retrieved.\n",
      "CCH already retrieved.\n",
      "CPG already retrieved.\n",
      "CRH already retrieved.\n",
      "CRDA already retrieved.\n",
      "DCC already retrieved.\n",
      "DGE already retrieved.\n",
      "DLG already retrieved.\n",
      "EZJ already retrieved.\n",
      "EVR already retrieved.\n",
      "EXPN already retrieved.\n",
      "FERG already retrieved.\n",
      "FRES already retrieved.\n",
      "GFS already retrieved.\n",
      "GKN already retrieved.\n",
      "GSK already retrieved.\n",
      "GLEN already retrieved.\n",
      "HLMA already retrieved.\n",
      "HMSO already retrieved.\n",
      "HL. already retrieved.\n",
      "HSBA already retrieved.\n",
      "IMB already retrieved.\n",
      "INF already retrieved.\n",
      "IHG already retrieved.\n",
      "IAG already retrieved.\n",
      "ITRK already retrieved.\n",
      "ITV already retrieved.\n",
      "JMAT already retrieved.\n",
      "JE. already retrieved.\n",
      "KGF already retrieved.\n",
      "LAND already retrieved.\n",
      "LGEN already retrieved.\n",
      "LLOY already retrieved.\n",
      "LSE already retrieved.\n",
      "MKS already retrieved.\n",
      "MDC already retrieved.\n",
      "MCRO already retrieved.\n",
      "MNDI already retrieved.\n",
      "MRW already retrieved.\n",
      "NG. already retrieved.\n",
      "NXT already retrieved.\n",
      "NMC already retrieved.\n",
      "OML already retrieved.\n",
      "PPB already retrieved.\n",
      "PSON already retrieved.\n",
      "PSN already retrieved.\n",
      "PRU already retrieved.\n",
      "RRS already retrieved.\n",
      "RB. already retrieved.\n",
      "REL already retrieved.\n",
      "RTO already retrieved.\n",
      "RIO already retrieved.\n",
      "RR. already retrieved.\n",
      "RBS already retrieved.\n",
      "RDSA already retrieved.\n",
      "RSA already retrieved.\n",
      "SGE already retrieved.\n",
      "SBRY already retrieved.\n",
      "SDR already retrieved.\n",
      "SMT already retrieved.\n",
      "SGRO already retrieved.\n",
      "SVT already retrieved.\n",
      "SHP already retrieved.\n",
      "SKY already retrieved.\n",
      "SN. already retrieved.\n",
      "SMDS already retrieved.\n",
      "SMIN already retrieved.\n",
      "SKG already retrieved.\n",
      "SSE already retrieved.\n",
      "STAN already retrieved.\n",
      "SLA already retrieved.\n",
      "STJ already retrieved.\n",
      "TW. already retrieved.\n",
      "TSCO already retrieved.\n",
      "TUI already retrieved.\n",
      "ULVR already retrieved.\n",
      "UU. already retrieved.\n",
      "VOD already retrieved.\n",
      "WTB already retrieved.\n",
      "WPP already retrieved.\n"
     ]
    }
   ],
   "source": [
    "get_ftse100_data()"
   ]
  },
  {
   "cell_type": "code",
   "execution_count": 61,
   "metadata": {
    "collapsed": true
   },
   "outputs": [],
   "source": [
    "with open('../quandl/api_key', 'r') as f:\n",
    "    quandl_api_key = f.readlines()[0].rstrip()\n",
    "quandl.ApiConfig.api_key = quandl_api_key"
   ]
  },
  {
   "cell_type": "code",
   "execution_count": 63,
   "metadata": {
    "collapsed": true
   },
   "outputs": [],
   "source": [
    "mydata = quandl.get(\"FRED/GDP\")"
   ]
  },
  {
   "cell_type": "code",
   "execution_count": 69,
   "metadata": {
    "collapsed": true
   },
   "outputs": [],
   "source": [
    "aapl = quandl.get_table('ZACKS/FC', ticker='BARC')"
   ]
  },
  {
   "cell_type": "code",
   "execution_count": null,
   "metadata": {
    "collapsed": true
   },
   "outputs": [],
   "source": []
  }
 ],
 "metadata": {
  "kernelspec": {
   "display_name": "Python 3",
   "language": "python",
   "name": "python3"
  },
  "language_info": {
   "codemirror_mode": {
    "name": "ipython",
    "version": 3
   },
   "file_extension": ".py",
   "mimetype": "text/x-python",
   "name": "python",
   "nbconvert_exporter": "python",
   "pygments_lexer": "ipython3",
   "version": "3.6.2"
  }
 },
 "nbformat": 4,
 "nbformat_minor": 2
}
