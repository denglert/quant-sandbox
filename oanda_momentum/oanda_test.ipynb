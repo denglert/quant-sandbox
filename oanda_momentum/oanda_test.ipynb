{
 "cells": [
  {
   "cell_type": "markdown",
   "metadata": {},
   "source": [
    "# Momentum trading - oanda\n",
    "\n",
    "https://www.oreilly.com/learning/algorithmic-trading-in-less-than-100-lines-of-python-code"
   ]
  },
  {
   "cell_type": "code",
   "execution_count": 1,
   "metadata": {},
   "outputs": [],
   "source": [
    "import pandas as pd\n",
    "import numpy as np\n",
    "import seaborn as sns\n",
    "from oanda_client import client, config\n",
    "from momentum_trader import MomentumTrader\n",
    "%matplotlib inline"
   ]
  },
  {
   "cell_type": "markdown",
   "metadata": {},
   "source": [
    "The data set itself is for the two days December 8 and 9, 2016, and has a granularity of one minute."
   ]
  },
  {
   "cell_type": "code",
   "execution_count": 2,
   "metadata": {
    "collapsed": true
   },
   "outputs": [],
   "source": [
    "data = client.get_history(instrument='EUR_USD',\n",
    "                         start='2016-12-08',\n",
    "                         end='2016-12-10',\n",
    "                         granularity='M1')"
   ]
  },
  {
   "cell_type": "markdown",
   "metadata": {},
   "source": [
    "The `data` contains the candles that includes the following information:"
   ]
  },
  {
   "cell_type": "code",
   "execution_count": 3,
   "metadata": {},
   "outputs": [
    {
     "data": {
      "text/plain": [
       "{'closeAsk': 1.07602,\n",
       " 'closeBid': 1.07584,\n",
       " 'complete': True,\n",
       " 'highAsk': 1.07602,\n",
       " 'highBid': 1.07584,\n",
       " 'lowAsk': 1.07585,\n",
       " 'lowBid': 1.07569,\n",
       " 'openAsk': 1.07598,\n",
       " 'openBid': 1.07582,\n",
       " 'time': '2016-12-08T00:00:00.000000Z',\n",
       " 'volume': 13}"
      ]
     },
     "execution_count": 3,
     "metadata": {},
     "output_type": "execute_result"
    }
   ],
   "source": [
    "data['candles'][0]"
   ]
  },
  {
   "cell_type": "markdown",
   "metadata": {},
   "source": [
    "Load the candles into a dataframe and the time to be the index"
   ]
  },
  {
   "cell_type": "code",
   "execution_count": 4,
   "metadata": {
    "collapsed": true
   },
   "outputs": [],
   "source": [
    "df = pd.DataFrame(data['candles']).set_index('time')"
   ]
  },
  {
   "cell_type": "markdown",
   "metadata": {},
   "source": [
    "Set index to be `DatatimeIndex`"
   ]
  },
  {
   "cell_type": "code",
   "execution_count": 5,
   "metadata": {},
   "outputs": [],
   "source": [
    "df.index = pd.DatetimeIndex(df.index)"
   ]
  },
  {
   "cell_type": "markdown",
   "metadata": {},
   "source": [
    "`pd.Series.shift(periods=1, freq=None, axis=0)`\n",
    "\n",
    "Shift index by desired number of periods with an optional time freq"
   ]
  },
  {
   "cell_type": "markdown",
   "metadata": {},
   "source": [
    "Create log returns for each minute"
   ]
  },
  {
   "cell_type": "code",
   "execution_count": 6,
   "metadata": {
    "collapsed": true
   },
   "outputs": [],
   "source": [
    "df['returns'] = np.log(df['closeAsk'] / df['closeAsk'].shift(1))  "
   ]
  },
  {
   "cell_type": "markdown",
   "metadata": {},
   "source": [
    "`df.rolling(window, min_periods=None, freq=None, center=False, win_type=None, on=None, axis=0, closed=None)`\n",
    "\n",
    "Provides rolling window calculations.\n",
    "\n",
    "- `window`: `int`, or `offset`\n",
    "\n",
    "    Size of the moving window. This is the number of observations used for\n",
    "    calculating the statistic. Each window will be a fixed size.\n",
    "\n",
    "    If its an offset then this will be the time period of each window. Each\n",
    "    window will be a variable sized based on the observations included in\n",
    "    the time-period. This is only valid for datetimelike indexes. This is\n",
    "    new in 0.19.0"
   ]
  },
  {
   "cell_type": "markdown",
   "metadata": {},
   "source": [
    "Take the mean log return over the last 15, 30, 60, and 120 minute bars to derive the position in the instrument. For example, the mean log return for the last 15 minute bars gives the average value of the last 15 return observations. If this value is positive, we go/stay long the traded instrument; if it is negative we go/stay short."
   ]
  },
  {
   "cell_type": "code",
   "execution_count": 7,
   "metadata": {},
   "outputs": [],
   "source": [
    "cols = []  \n",
    "for momentum in [15, 30, 60, 120]:\n",
    "    col = 'position_%s' % momentum\n",
    "    df[col] = np.sign(df['returns'].rolling(momentum).mean())\n",
    "    cols.append(col)"
   ]
  },
  {
   "cell_type": "code",
   "execution_count": 8,
   "metadata": {},
   "outputs": [
    {
     "data": {
      "text/plain": [
       "time\n",
       "2016-12-08 00:13:00    NaN\n",
       "2016-12-08 00:14:00    NaN\n",
       "2016-12-08 00:17:00    1.0\n",
       "2016-12-08 00:18:00    1.0\n",
       "2016-12-08 00:19:00    1.0\n",
       "2016-12-08 00:20:00    1.0\n",
       "2016-12-08 00:21:00    1.0\n",
       "2016-12-08 00:23:00   -1.0\n",
       "2016-12-08 00:24:00   -1.0\n",
       "2016-12-08 00:25:00   -1.0\n",
       "2016-12-08 00:26:00   -1.0\n",
       "2016-12-08 00:27:00   -1.0\n",
       "2016-12-08 00:29:00   -1.0\n",
       "2016-12-08 00:31:00   -1.0\n",
       "2016-12-08 00:32:00   -1.0\n",
       "2016-12-08 00:33:00   -1.0\n",
       "2016-12-08 00:35:00    1.0\n",
       "Name: position_15, dtype: float64"
      ]
     },
     "execution_count": 8,
     "metadata": {},
     "output_type": "execute_result"
    }
   ],
   "source": [
    "df['position_15'][13:30]"
   ]
  },
  {
   "cell_type": "markdown",
   "metadata": {},
   "source": [
    "To derive the absolute performance of the momentum strategy for the different momentum intervals (in minutes), you need to multiply the positionings derived above (shifted by one day) by the market returns."
   ]
  },
  {
   "cell_type": "code",
   "execution_count": 9,
   "metadata": {
    "collapsed": true
   },
   "outputs": [],
   "source": [
    "strats = ['returns']\n",
    "\n",
    "for col in cols:\n",
    "    strat = 'strategy_%s' % col.split('_')[1]\n",
    "    df[strat] = df[col].shift(1) * df['returns']\n",
    "    strats.append(strat)"
   ]
  },
  {
   "cell_type": "code",
   "execution_count": 10,
   "metadata": {},
   "outputs": [
    {
     "data": {
      "text/plain": [
       "<matplotlib.axes._subplots.AxesSubplot at 0x7f0a485922b0>"
      ]
     },
     "execution_count": 10,
     "metadata": {},
     "output_type": "execute_result"
    },
    {
     "data": {
      "image/png": "[encoded data removed]",
      "text/plain": [
       "<matplotlib.figure.Figure at 0x7f0a7d7a8a90>"
      ]
     },
     "metadata": {},
     "output_type": "display_data"
    }
   ],
   "source": [
    "df[strats].dropna().cumsum().apply(np.exp).plot()"
   ]
  },
  {
   "cell_type": "code",
   "execution_count": 11,
   "metadata": {
    "collapsed": true
   },
   "outputs": [],
   "source": [
    "mt = MomentumTrader(momentum=12, environment='practice',\n",
    "                    access_token=config['oanda']['access_token'])"
   ]
  },
  {
   "cell_type": "markdown",
   "metadata": {},
   "source": [
    "The oanda python api seems to be outdated - the below code doesn't work:"
   ]
  },
  {
   "cell_type": "code",
   "execution_count": 12,
   "metadata": {},
   "outputs": [],
   "source": [
    "#mt.rates(account_id=config['oanda']['account_id'],\n",
    "#         instruments=['EUR_USD'], ignore_heartbeat=True)"
   ]
  }
 ],
 "metadata": {
  "kernelspec": {
   "display_name": "Python (trade)",
   "language": "python",
   "name": "trade"
  },
  "language_info": {
   "codemirror_mode": {
    "name": "ipython",
    "version": 3
   },
   "file_extension": ".py",
   "mimetype": "text/x-python",
   "name": "python",
   "nbconvert_exporter": "python",
   "pygments_lexer": "ipython3",
   "version": "3.6.2"
  }
 },
 "nbformat": 4,
 "nbformat_minor": 2
}
