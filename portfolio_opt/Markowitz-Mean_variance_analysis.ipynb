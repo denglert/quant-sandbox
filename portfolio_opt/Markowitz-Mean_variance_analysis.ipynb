{
 "cells": [
  {
   "cell_type": "markdown",
   "metadata": {},
   "source": [
    "# Markowitz portfolio theory/Mean-variance analysis"
   ]
  },
  {
   "cell_type": "markdown",
   "metadata": {},
   "source": [
    "**References:**\n",
    "- https://en.wikipedia.org/wiki/Modern_portfolio_theory"
   ]
  },
  {
   "cell_type": "markdown",
   "metadata": {},
   "source": [
    "## Simple case with two assets"
   ]
  },
  {
   "cell_type": "markdown",
   "metadata": {},
   "source": [
    "### Asset propetries\n",
    "- Asset 1:\n",
    "    - Mean: $E[R_{1}] = \\mu_{1}$\n",
    "    - Variance: $V[R_{1}]=\\sigma^{2}_{1}$\n",
    "- Asset 2:\n",
    "    - Mean: $E[R_{2}] = \\mu_{2}$\n",
    "    - Variance: $V[R_{2}]=\\sigma^{2}_{2}$\n",
    "    \n",
    "Covariance: $\\rho \\sigma_{1} \\sigma_{2}$\n",
    "\n",
    "\n",
    "**Vectorized form:**\n",
    "\n",
    "Means:\n",
    "\n",
    "\\begin{equation}\n",
    "    \\mu\n",
    "    =\n",
    "    \\begin{pmatrix}\n",
    "        \\mu_{1} \\\\\n",
    "        \\mu_{2}\n",
    "    \\end{pmatrix}\n",
    "\\end{equation}\n",
    "\n",
    "Covariance matrix:\n",
    "\n",
    "\\begin{equation}\n",
    "    C\n",
    "    =\n",
    "    \\begin{bmatrix}\n",
    "        \\sigma^{2}_{1} & \\rho \\sigma_{1} \\sigma_{2} \\\\\n",
    "        \\rho \\sigma_{1} \\sigma_{2} & \\sigma^{2}_{2}\n",
    "    \\end{bmatrix}\n",
    "\\end{equation}"
   ]
  },
  {
   "cell_type": "markdown",
   "metadata": {},
   "source": [
    "### Portfolio\n",
    "\n",
    "The portfolio is described by amount of money allocatted to each asset relative to the total amount, denoted by $w_{i}$ (weights):\n",
    "\n",
    "\\begin{equation}\n",
    "    w\n",
    "    =\n",
    "    \\begin{pmatrix}\n",
    "        w_{1} \\\\\n",
    "        w_{2}\n",
    "    \\end{pmatrix}\n",
    "\\end{equation}\n",
    "\n",
    "**Portfolio properties:**\n",
    "- Mean: $E[R_{P}] = w^{T} \\mu = w_{1} \\mu_{1} + w_{2} \\mu_{2}$\n",
    "- Variance: $V[R_{P}] = w^{T} C w = w^{2}_{1} \\sigma^{2}_{1} + 2 w_{1} w_{2} \\rho \\sigma_{1} \\sigma_{2} + w^{2}_{2} \\sigma^{2}_{2}$"
   ]
  },
  {
   "cell_type": "code",
   "execution_count": 1,
   "metadata": {
    "collapsed": true
   },
   "outputs": [],
   "source": [
    "import numpy as np\n",
    "import pandas as pd\n",
    "import ipywidgets\n",
    "import matplotlib.pyplot as plt\n",
    "%matplotlib inline"
   ]
  },
  {
   "cell_type": "code",
   "execution_count": 4,
   "metadata": {
    "collapsed": true
   },
   "outputs": [],
   "source": [
    "def calc_portfolio_return_mean_var(weights, mu, C):\n",
    "    \n",
    "    portfolio_mean = np.dot(weights.T,mu)\n",
    "    portfolio_var  = np.dot(weights.T,C).dot(weights)\n",
    "    \n",
    "    return portfolio_mean, portfolio_var"
   ]
  },
  {
   "cell_type": "code",
   "execution_count": 21,
   "metadata": {},
   "outputs": [],
   "source": [
    "def generate_portfolios(mu1, mu2, sigma1, sigma2, rho):\n",
    "    mu = np.array([mu1, mu2])\n",
    "    portfolio_weights = [np.array([1.0-x, x]) for x in np.linspace(0.0, 1.0, 101)] \n",
    "    cov = rho*sigma1*sigma2\n",
    "    C = np.array([[sigma1**2,   cov],\n",
    "                 [cov,   sigma2**2]])\n",
    "    portfolios_mean_var = np.array([calc_portfolio_return_mean_var(weights, mu, C) for weights in portfolio_weights])\n",
    "    \n",
    "    portfolio_means  = portfolios_mean_var[:,0]\n",
    "    portfolio_vars   = portfolios_mean_var[:,1]\n",
    "    portfolio_stddevs = np.sqrt(portfolio_vars)\n",
    "    \n",
    "    return portfolio_stddevs, portfolio_means"
   ]
  },
  {
   "cell_type": "code",
   "execution_count": 95,
   "metadata": {},
   "outputs": [],
   "source": [
    "def plot_stddev_mean_portfolios(portfolio_stddevs, portfolio_means, plot_kwargs={}, a=None):\n",
    "    \n",
    "    if a is None:\n",
    "        f,a = plt.subplots()\n",
    "\n",
    "    a.scatter(portfolio_stddevs, portfolio_means, **plot_kwargs)\n",
    "    a.scatter(portfolio_stddevs[50], portfolio_means[50], c='white')\n",
    "\n",
    "    a.set_xlabel('Stddev[$R_{P}$]')\n",
    "    a.set_ylabel('E[$R_{P}$]')\n",
    "    stddev_max = portfolio_stddevs.max()\n",
    "    mean_max = portfolio_means.max()\n",
    "\n",
    "    a.set_xlim(0.0, 0.06)\n",
    "    a.set_ylim(0.0, 0.06)\n",
    "    \n",
    "    if plot_kwargs != {}:\n",
    "        plt.legend()"
   ]
  },
  {
   "cell_type": "code",
   "execution_count": 96,
   "metadata": {
    "collapsed": true
   },
   "outputs": [],
   "source": [
    "def create_portfolio_plot(mu1, mu2, sigma1, sigma2, rho):\n",
    "    \n",
    "    portfolio_stddevs, portfolio_means = generate_portfolios(mu1, mu2, sigma1, sigma2, rho)\n",
    "    plot_stddev_mean_portfolios(portfolio_stddevs, portfolio_means)"
   ]
  },
  {
   "cell_type": "markdown",
   "metadata": {},
   "source": [
    "## Fixed $\\mu$s and $\\sigma$s, varied $\\rho$"
   ]
  },
  {
   "cell_type": "code",
   "execution_count": 97,
   "metadata": {
    "collapsed": true
   },
   "outputs": [],
   "source": [
    "portfolio_weights = [np.array([1.0-x, x]) for x in np.linspace(0.0, 1.0, 101)] "
   ]
  },
  {
   "cell_type": "code",
   "execution_count": 98,
   "metadata": {
    "collapsed": true
   },
   "outputs": [],
   "source": [
    "mu1, sigma1 = 0.01, 0.01\n",
    "mu2, sigma2 = 0.04, 0.05\n",
    "rho = 0.3"
   ]
  },
  {
   "cell_type": "code",
   "execution_count": 99,
   "metadata": {
    "collapsed": true
   },
   "outputs": [],
   "source": [
    "cov = rho*sigma1*sigma2\n",
    "mu = np.array([mu1, mu2])\n",
    "C = np.array([[sigma1**2,   cov],\n",
    "              [cov,   sigma2**2]])"
   ]
  },
  {
   "cell_type": "code",
   "execution_count": 100,
   "metadata": {
    "collapsed": true
   },
   "outputs": [],
   "source": [
    "rhos = [-0.99, -0.5, 0.0, 0.5, 0.99]"
   ]
  },
  {
   "cell_type": "code",
   "execution_count": 101,
   "metadata": {},
   "outputs": [
    {
     "data": {
      "image/png": "[encoded data removed]",
      "text/plain": [
       "<matplotlib.figure.Figure at 0x7f0048c4b1d0>"
      ]
     },
     "metadata": {},
     "output_type": "display_data"
    }
   ],
   "source": [
    "f,a = plt.subplots()\n",
    "for i, rho in enumerate(rhos):\n",
    "    portfolio_stddevs, portfolio_means = generate_portfolios(mu1, mu2, sigma1, sigma2, rho)\n",
    "    c = \"C{}\".format(i)\n",
    "    label = r\"$\\rho:$ {:.2f}\".format(rho)\n",
    "    plot_kwargs = {'c':c, 'label':label}\n",
    "    plot_stddev_mean_portfolios(portfolio_stddevs, portfolio_means, plot_kwargs, a=a)"
   ]
  },
  {
   "cell_type": "markdown",
   "metadata": {},
   "source": [
    "## Interactive"
   ]
  },
  {
   "cell_type": "code",
   "execution_count": 102,
   "metadata": {},
   "outputs": [
    {
     "data": {
      "application/vnd.jupyter.widget-view+json": {
       "model_id": "3ebacb85ea7e4741bbcbb8f31ee5eebe",
       "version_major": 2,
       "version_minor": 0
      },
      "text/plain": [
       "interactive(children=(FloatSlider(value=0.01, description='mu1', max=0.05, min=0.01, step=0.01), FloatSlider(v…"
      ]
     },
     "metadata": {},
     "output_type": "display_data"
    }
   ],
   "source": [
    "ipywidgets.interact(create_portfolio_plot,\n",
    "                    mu1=ipywidgets.FloatSlider(min=0.01, max=0.05,step=0.01,value=0.01),\n",
    "                    mu2=ipywidgets.FloatSlider(min=0.01, max=0.05,step=0.01,value=0.05),\n",
    "                    sigma1=ipywidgets.FloatSlider(min=0.01, max=0.05,step=0.01,value=0.01),\n",
    "                    sigma2=ipywidgets.FloatSlider(min=0.01, max=0.05,step=0.01,value=0.05),\n",
    "                    rho=ipywidgets.FloatSlider(min=-1.00, max=1.00,step=0.1,value=0.0));"
   ]
  }
 ],
 "metadata": {
  "kernelspec": {
   "display_name": "Python 3",
   "language": "python",
   "name": "python3"
  },
  "language_info": {
   "codemirror_mode": {
    "name": "ipython",
    "version": 3
   },
   "file_extension": ".py",
   "mimetype": "text/x-python",
   "name": "python",
   "nbconvert_exporter": "python",
   "pygments_lexer": "ipython3",
   "version": "3.6.2"
  }
 },
 "nbformat": 4,
 "nbformat_minor": 2
}
